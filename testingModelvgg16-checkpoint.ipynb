{
 "cells": [
  {
   "cell_type": "code",
   "execution_count": null,
   "id": "fb7ce47d-c0d5-49c6-b26f-df0a5ee4e35c",
   "metadata": {},
   "outputs": [],
   "source": [
    "###Here i taste a image of basmati 15 number image taste the vgg16 riceclassification keras model"
   ]
  },
  {
   "cell_type": "code",
   "execution_count": null,
   "id": "aaf74ee7-2462-476a-9f71-754220b9d6a5",
   "metadata": {},
   "outputs": [],
   "source": [
    "from keras.preprocessing.image import load_img, img_to_array\n",
    "from keras.models import load_model\n",
    "import numpy as np\n",
    "\n",
    "# Path to the image\n",
    "test_image_path = \"TestImagePath\"\n",
    "\n",
    "# Load the trained model\n",
    "model = load_model('vgg16_rice_classification.keras')\n",
    "\n",
    "# Load and preprocess the image\n",
    "img = load_img(test_image_path, target_size=(224, 224))  # Adjust target_size as needed\n",
    "img_array = img_to_array(img)\n",
    "img_array = np.expand_dims(img_array, axis=0)  # Add batch dimension\n",
    "img_array /= 255.0  # Scale pixel values\n",
    "\n",
    "# Predict the class\n",
    "predictions = model.predict(img_array)\n",
    "predicted_class = np.argmax(predictions[0])\n",
    "\n",
    "# Map the predicted class index to the actual class name\n",
    "class_names = ['Arborio', 'Basmati', 'Ipsala', 'Jasmine', 'Karacadag']  # Ensure this matches your training classes\n",
    "predicted_class_name = class_names[predicted_class]\n",
    "\n",
    "# Output the result\n",
    "print(f'The predicted class for the image is: {predicted_class_name}')\n"
   ]
  }
 ],
 "metadata": {
  "kernelspec": {
   "display_name": "Python 3 (ipykernel)",
   "language": "python",
   "name": "python3"
  },
  "language_info": {
   "codemirror_mode": {
    "name": "ipython",
    "version": 3
   },
   "file_extension": ".py",
   "mimetype": "text/x-python",
   "name": "python",
   "nbconvert_exporter": "python",
   "pygments_lexer": "ipython3",
   "version": "3.11.4"
  }
 },
 "nbformat": 4,
 "nbformat_minor": 5
}
